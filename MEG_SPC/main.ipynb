{
 "cells": [
  {
   "cell_type": "code",
   "execution_count": 1,
   "metadata": {},
   "outputs": [],
   "source": [
    "# The suffix 2 is used after autoreload, to reload all modules every time before executing the Python code typed.\n",
    "%load_ext autoreload\n",
    "%autoreload 2"
   ]
  },
  {
   "cell_type": "code",
   "execution_count": 2,
   "metadata": {},
   "outputs": [],
   "source": [
    "from utilities.paths import set_paths, fif_to_npy\n",
    "from utilities.run_circus import Circus"
   ]
  },
  {
   "cell_type": "code",
   "execution_count": 3,
   "metadata": {},
   "outputs": [],
   "source": [
    "path = set_paths('/Users/valery/MEG/Cases/B1C2','run1')"
   ]
  },
  {
   "cell_type": "code",
   "execution_count": 4,
   "metadata": {},
   "outputs": [
    {
     "data": {
      "text/plain": [
       "dict_keys(['code_source', 'case_meg', 'case', 'SPC_root', 'circus_pkg', 'circus_updates', 'art_cor', 'fif_file', 'SPC', 'npy_file', 'SPC_output', 'SPC_params', 'SPC_results'])"
      ]
     },
     "execution_count": 4,
     "metadata": {},
     "output_type": "execute_result"
    }
   ],
   "source": [
    "path.keys()"
   ]
  },
  {
   "cell_type": "code",
   "execution_count": 21,
   "metadata": {},
   "outputs": [],
   "source": [
    "%%capture\n",
    "#fif_to_npy(path['fif_file'],path['npy_file'])"
   ]
  },
  {
   "cell_type": "code",
   "execution_count": 28,
   "metadata": {},
   "outputs": [],
   "source": [
    "for sensors in ['grad','mag']:\n",
    "    main_params = {'cc_merge':0.6, 'cut_off':(0.1, 70), 'N_t':400}\n",
    "    path = set_paths('/Users/valery/MEG/Cases/B1C2','run1',sensors)\n",
    "    \n",
    "    sc = Circus(path, main_params, sensors)\n",
    "    sc.set_params_spc(sc.main_params, path['npy_file'], path['SPC_output'])\n",
    "    #sc.run_circus(path.SPC_output, path.npy_file, n_cores=7, only_fitting=False)\n",
    "    #sc.results_to_excel(sc.params, path.SPC_results)    "
   ]
  },
  {
   "cell_type": "code",
   "execution_count": null,
   "metadata": {},
   "outputs": [],
   "source": []
  },
  {
   "cell_type": "code",
   "execution_count": 5,
   "metadata": {},
   "outputs": [],
   "source": [
    "from utilities.circus_templates import Templates"
   ]
  },
  {
   "cell_type": "code",
   "execution_count": null,
   "metadata": {},
   "outputs": [],
   "source": [
    "temp = Templates()"
   ]
  }
 ],
 "metadata": {
  "kernelspec": {
   "display_name": "Python 3",
   "language": "python",
   "name": "python3"
  },
  "language_info": {
   "codemirror_mode": {
    "name": "ipython",
    "version": 3
   },
   "file_extension": ".py",
   "mimetype": "text/x-python",
   "name": "python",
   "nbconvert_exporter": "python",
   "pygments_lexer": "ipython3",
   "version": "3.6.8"
  }
 },
 "nbformat": 4,
 "nbformat_minor": 4
}
