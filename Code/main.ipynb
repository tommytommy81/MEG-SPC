{
 "cells": [
  {
   "cell_type": "markdown",
   "metadata": {},
   "source": [
    "## Load and maxfilter example data "
   ]
  },
  {
   "cell_type": "code",
   "execution_count": 5,
   "metadata": {},
   "outputs": [
    {
     "name": "stdout",
     "output_type": "stream",
     "text": [
      "Opening raw data file /Users/valery/mne_data/MNE-sample-data/MEG/sample/sample_audvis_raw.fif...\n",
      "    Read a total of 3 projection items:\n",
      "        PCA-v1 (1 x 102)  idle\n",
      "        PCA-v2 (1 x 102)  idle\n",
      "        PCA-v3 (1 x 102)  idle\n",
      "    Range : 25800 ... 192599 =     42.956 ...   320.670 secs\n",
      "Ready.\n",
      "Current compensation grade : 0\n",
      "Reading 0 ... 166799  =      0.000 ...   277.714 secs...\n",
      "Maxwell filtering raw data\n",
      "    Using loaded raw data\n",
      "    Bad MEG channels being reconstructed: ['MEG 2443']\n",
      "    Processing 204 gradiometers and 102 magnetometers\n",
      "    Using fine calibration sss_cal_mgh.dat\n",
      "        Adjusting non-orthogonal EX and EY\n",
      "        Adjusted coil positions by (μ ± σ): 0.5° ± 0.4° (max: 2.1°)\n",
      "    Automatic origin fit: head of radius 91.0 mm\n",
      "    Using origin -4.1, 16.0, 51.7 mm in the head frame\n",
      "    Processing data using tSSS with st_duration=9.999750418577312\n",
      "    Spatiotemporal window did not fit evenly intocontiguous data segment. 7.72 seconds were lumped into the previous window.\n",
      "        Using 87/95 harmonic components for    0.000  (72/80 in, 15/15 out)\n",
      "    Processing 27 data chunks\n",
      "        Projecting  0 intersecting tSSS components for    0.000 -    9.998 sec  (#1/27)\n",
      "        Projecting  0 intersecting tSSS components for   10.000 -   19.998 sec  (#2/27)\n",
      "        Projecting  0 intersecting tSSS components for   20.000 -   29.998 sec  (#3/27)\n",
      "        Projecting  0 intersecting tSSS components for   29.999 -   39.997 sec  (#4/27)\n",
      "        Projecting  0 intersecting tSSS components for   39.999 -   49.997 sec  (#5/27)\n",
      "        Projecting  0 intersecting tSSS components for   49.999 -   59.997 sec  (#6/27)\n",
      "        Projecting  0 intersecting tSSS components for   59.999 -   69.997 sec  (#7/27)\n",
      "        Projecting  0 intersecting tSSS components for   69.998 -   79.996 sec  (#8/27)\n",
      "        Projecting  0 intersecting tSSS components for   79.998 -   89.996 sec  (#9/27)\n",
      "        Projecting  0 intersecting tSSS components for   89.998 -   99.996 sec (#10/27)\n",
      "        Projecting  0 intersecting tSSS components for   99.998 -  109.996 sec (#11/27)\n",
      "        Projecting  0 intersecting tSSS components for  109.997 -  119.995 sec (#12/27)\n",
      "        Projecting  0 intersecting tSSS components for  119.997 -  129.995 sec (#13/27)\n",
      "        Projecting  0 intersecting tSSS components for  129.997 -  139.995 sec (#14/27)\n",
      "        Projecting  0 intersecting tSSS components for  139.997 -  149.995 sec (#15/27)\n",
      "        Projecting  0 intersecting tSSS components for  149.996 -  159.994 sec (#16/27)\n",
      "        Projecting  0 intersecting tSSS components for  159.996 -  169.994 sec (#17/27)\n",
      "        Projecting  0 intersecting tSSS components for  169.996 -  179.994 sec (#18/27)\n",
      "        Projecting  0 intersecting tSSS components for  179.996 -  189.994 sec (#19/27)\n",
      "        Projecting  0 intersecting tSSS components for  189.995 -  199.993 sec (#20/27)\n",
      "        Projecting  0 intersecting tSSS components for  199.995 -  209.993 sec (#21/27)\n",
      "        Projecting  0 intersecting tSSS components for  209.995 -  219.993 sec (#22/27)\n",
      "        Projecting  0 intersecting tSSS components for  219.995 -  229.993 sec (#23/27)\n",
      "        Projecting  0 intersecting tSSS components for  229.994 -  239.992 sec (#24/27)\n",
      "        Projecting  0 intersecting tSSS components for  239.994 -  249.992 sec (#25/27)\n",
      "        Projecting  0 intersecting tSSS components for  249.994 -  259.992 sec (#26/27)\n",
      "        Projecting  0 intersecting tSSS components for  259.994 -  277.714 sec (#27/27)\n",
      "[done]\n"
     ]
    }
   ],
   "source": [
    "import os\n",
    "import pandas as pd\n",
    "import numpy as np\n",
    "\n",
    "import mne\n",
    "from mne.datasets import sample\n",
    "\n",
    "data_path = sample.data_path()\n",
    "fname = data_path + '/MEG/sample/sample_audvis_raw.fif'\n",
    "raw = mne.io.read_raw_fif(fname, preload=True)\n",
    "\n",
    "fine_cal_file = os.path.join(data_path, 'SSS', 'sss_cal_mgh.dat')\n",
    "crosstalk_file = os.path.join(data_path, 'SSS', 'ct_sparse_mgh.fif')\n",
    "head_pos_file = os.path.join(mne.datasets.testing.data_path(), 'SSS', 'test_move_anon_raw.pos')\n",
    "head_pos = mne.chpi.read_head_pos(head_pos_file)\n",
    "\n",
    "raw_tsss_mc = mne.preprocessing.maxwell_filter(raw, cross_talk=crosstalk_file, calibration=fine_cal_file, \n",
    "                                            st_duration=10, head_pos=head_pos)\n",
    "\n",
    "run1_tsss_mc = raw_tsss_mc.copy().crop(tmin=0, tmax=200)\n",
    "run2_tsss_mc = raw_tsss_mc.copy().crop(tmin=200)"
   ]
  },
  {
   "cell_type": "markdown",
   "metadata": {},
   "source": [
    "### Save files"
   ]
  },
  {
   "cell_type": "code",
   "execution_count": null,
   "metadata": {},
   "outputs": [],
   "source": [
    "root_path = '/Users/valery/MEG/Example/'\n",
    "case_name = 'case_1'\n",
    "case_path = root_path+case_name+'/'\n",
    "\n",
    "os.makedirs(case_path + 'MEG_data/tsss_mc/',exist_ok=True)\n",
    "\n",
    "run1_tsss_mc.save(case_path + 'MEG_data/tsss_mc/case1_run1_tsss_mc.fif')\n",
    "run2_tsss_mc.save(case_path + 'MEG_data/tsss_mc/case1_run2_tsss_mc.fif')"
   ]
  },
  {
   "cell_type": "markdown",
   "metadata": {},
   "source": [
    "## Directories"
   ]
  },
  {
   "cell_type": "code",
   "execution_count": 1,
   "metadata": {},
   "outputs": [],
   "source": [
    "import os\n",
    "import pandas as pd\n",
    "import numpy as np\n",
    "\n",
    "import circus_templates\n",
    "import meg_preprocessing\n",
    "import run_circus\n",
    "\n",
    "root_path = '/Users/valery/MEG/Example/'\n",
    "case_name = 'case_1'\n",
    "case_path = root_path+case_name+'/'\n",
    "\n",
    "prep = meg_preprocessing.Preprocessing(dir_root=root_path, case=case_name, directory=case_path)\n"
   ]
  },
  {
   "cell_type": "markdown",
   "metadata": {},
   "source": [
    "### Plot PSD"
   ]
  },
  {
   "cell_type": "code",
   "execution_count": null,
   "metadata": {},
   "outputs": [],
   "source": [
    "prep.concatenate_files()\n",
    "prep.plot_psd()\n",
    "prep.update_cases_files(first_time=True)"
   ]
  },
  {
   "cell_type": "markdown",
   "metadata": {},
   "source": [
    "### Open the file *all_cases_files.xlsx* in the root folder\n",
    "Manually write **False** in the column *skipped* to select the file for the further analysis"
   ]
  },
  {
   "cell_type": "code",
   "execution_count": 9,
   "metadata": {},
   "outputs": [
    {
     "name": "stdout",
     "output_type": "stream",
     "text": [
      "ICA fitting, artefscts detecting, properties and sources plotting...\n"
     ]
    },
    {
     "data": {
      "text/html": [
       "<div><span class=\"Text-label\" style=\"display:inline-block; overflow:hidden; white-space:nowrap; text-overflow:ellipsis; min-width:15ex; max-width:15ex; vertical-align:middle; text-align:right\">Files </span>\n",
       "<progress style=\"width:45ex\" max=\"1\" value=\"1\" class=\"Progress-main\"/></progress>\n",
       "<span class=\"Progress-label\"><strong>100%</strong></span>\n",
       "<span class=\"Iteration-label\">1/1</span>\n",
       "<span class=\"Time-label\">[05:31<05:31, 331.32s/it]</span></div>"
      ],
      "text/plain": [
       "\u001b[A\u001b[2K\r",
       "         Files  [█████████████████████████████████████████████] 1/1 [05:31<05:31, 331.32s/it]"
      ]
     },
     "metadata": {},
     "output_type": "display_data"
    },
    {
     "name": "stderr",
     "output_type": "stream",
     "text": [
      "/anaconda3/envs/mne/lib/python3.6/site-packages/sklearn/decomposition/fastica_.py:119: ConvergenceWarning: FastICA did not converge. Consider increasing tolerance or the maximum number of iterations.\n",
      "  ConvergenceWarning)\n"
     ]
    },
    {
     "name": "stdout",
     "output_type": "stream",
     "text": [
      "Automatic bad components for case1_run1_tsss_mc.fif:  [46, 23]\n"
     ]
    }
   ],
   "source": [
    "prep.update_cases_files()\n",
    "prep.ICA_plots([prep.file_fif_for_circus])\n",
    "prep.update_cases_files()"
   ]
  },
  {
   "cell_type": "markdown",
   "metadata": {},
   "source": [
    "### Visually select bad components and write their numbers in the column *Manual_components* in the file *all_cases_files.xlsx*\n",
    "For example: 0, 1"
   ]
  },
  {
   "cell_type": "code",
   "execution_count": 10,
   "metadata": {},
   "outputs": [
    {
     "name": "stdout",
     "output_type": "stream",
     "text": [
      "File case1_run1_tsss_mc.fif saved as case1_run1_tsss_mc_0.npy in the folder /Users/valery/MEG/Example/case_1/Spyking_circus/case_1_case1_run1_tsss_mc\n"
     ]
    }
   ],
   "source": [
    "prep.apply_ica()"
   ]
  },
  {
   "cell_type": "markdown",
   "metadata": {},
   "source": [
    "## Run Spyking Circus"
   ]
  },
  {
   "cell_type": "code",
   "execution_count": 2,
   "metadata": {},
   "outputs": [
    {
     "name": "stdout",
     "output_type": "stream",
     "text": [
      "Folder: /Users/valery/MEG/Example/case_1/Spyking_circus/case_1_case1_run1_tsss_mc/\n",
      "File: case1_run1_tsss_mc_0.npy\n",
      "Number manual spikes: 0 \n",
      "Parameters: N_t = 80, Cut off = 9, Threshold = 5.0, cc_merge = 0.9\n",
      "\n"
     ]
    },
    {
     "data": {
      "text/html": [
       "<div><span class=\"Text-label\" style=\"display:inline-block; overflow:hidden; white-space:nowrap; text-overflow:ellipsis; min-width:15ex; max-width:15ex; vertical-align:middle; text-align:right\">Sensors </span>\n",
       "<progress style=\"width:45ex\" max=\"2\" value=\"2\" class=\"Progress-main\"/></progress>\n",
       "<span class=\"Progress-label\"><strong>100%</strong></span>\n",
       "<span class=\"Iteration-label\">2/2</span>\n",
       "<span class=\"Time-label\">[04:25<01:39, 132.53s/it]</span></div>"
      ],
      "text/plain": [
       "\u001b[A\u001b[2K\r",
       "       Sensors  [█████████████████████████████████████████████] 2/2 [04:25<01:39, 132.53s/it]"
      ]
     },
     "metadata": {},
     "output_type": "display_data"
    }
   ],
   "source": [
    "prep.information_for_circus()\n",
    "sc = run_circus.Circus(prep.dir_case, prep.case, prep.folder_for_circus, \n",
    "                      prep.file_fif_for_circus, prep.mspikes_for_circus, MAD=5.0)\n",
    "\n",
    "sc.params_iterations(run_spc=True, ROC=False)\n",
    "\n"
   ]
  },
  {
   "cell_type": "markdown",
   "metadata": {},
   "source": [
    "## Plot all templates"
   ]
  },
  {
   "cell_type": "code",
   "execution_count": 3,
   "metadata": {},
   "outputs": [
    {
     "data": {
      "text/html": [
       "<div><span class=\"Text-label\" style=\"display:inline-block; overflow:hidden; white-space:nowrap; text-overflow:ellipsis; min-width:15ex; max-width:15ex; vertical-align:middle; text-align:right\">Templates </span>\n",
       "<progress style=\"width:45ex\" max=\"7\" value=\"7\" class=\"Progress-main\"/></progress>\n",
       "<span class=\"Progress-label\"><strong>100%</strong></span>\n",
       "<span class=\"Iteration-label\">7/7</span>\n",
       "<span class=\"Time-label\">[02:22<00:17, 20.33s/it]</span></div>"
      ],
      "text/plain": [
       "\u001b[A\u001b[2K\r",
       "     Templates  [█████████████████████████████████████████████] 7/7 [02:22<00:17, 20.33s/it]"
      ]
     },
     "metadata": {},
     "output_type": "display_data"
    },
    {
     "data": {
      "text/html": [
       "<div><span class=\"Text-label\" style=\"display:inline-block; overflow:hidden; white-space:nowrap; text-overflow:ellipsis; min-width:15ex; max-width:15ex; vertical-align:middle; text-align:right\">Templates </span>\n",
       "<progress style=\"width:45ex\" max=\"1\" value=\"1\" class=\"Progress-main\"/></progress>\n",
       "<span class=\"Progress-label\"><strong>100%</strong></span>\n",
       "<span class=\"Iteration-label\">1/1</span>\n",
       "<span class=\"Time-label\">[00:23<00:23, 22.67s/it]</span></div>"
      ],
      "text/plain": [
       "\u001b[A\u001b[2K\r",
       "     Templates  [█████████████████████████████████████████████] 1/1 [00:23<00:23, 22.67s/it]"
      ]
     },
     "metadata": {},
     "output_type": "display_data"
    }
   ],
   "source": [
    "for sens in ['grad', 'mag']:\n",
    "    temp = circus_templates.Templates(prep.dir_case, prep.case, prep.file_fif_for_circus, \n",
    "                               sc.sensors_params[sens], sensors=sens, n_sp=5)\n",
    "    temp.plot_all_templates('{}{}'.format(prep.dir_tsss, prep.file_fif_for_circus), 'Mac')"
   ]
  },
  {
   "cell_type": "code",
   "execution_count": null,
   "metadata": {},
   "outputs": [],
   "source": []
  }
 ],
 "metadata": {
  "kernelspec": {
   "display_name": "Python 3",
   "language": "python",
   "name": "python3"
  },
  "language_info": {
   "codemirror_mode": {
    "name": "ipython",
    "version": 3
   },
   "file_extension": ".py",
   "mimetype": "text/x-python",
   "name": "python",
   "nbconvert_exporter": "python",
   "pygments_lexer": "ipython3",
   "version": "3.6.8"
  }
 },
 "nbformat": 4,
 "nbformat_minor": 2
}
